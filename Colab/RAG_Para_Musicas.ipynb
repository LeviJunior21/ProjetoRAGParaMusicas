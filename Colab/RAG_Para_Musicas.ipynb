{
  "nbformat": 4,
  "nbformat_minor": 0,
  "metadata": {
    "colab": {
      "private_outputs": true,
      "provenance": []
    },
    "kernelspec": {
      "name": "python3",
      "display_name": "Python 3"
    },
    "language_info": {
      "name": "python"
    }
  },
  "cells": [
    {
      "cell_type": "code",
      "execution_count": null,
      "metadata": {
        "id": "F7YPyEDhzJ2-"
      },
      "outputs": [],
      "source": [
        "!pip install langchain\n",
        "!pip install pandas\n",
        "!pip install vectordb2"
      ]
    },
    {
      "cell_type": "code",
      "source": [
        "import pandas as pd\n",
        "import re"
      ],
      "metadata": {
        "id": "PnqBn68f08HX"
      },
      "execution_count": null,
      "outputs": []
    },
    {
      "cell_type": "code",
      "source": [
        "import unicodedata\n",
        "\n",
        "def remove_acentos(texto):\n",
        "  nfkd = unicodedata.normalize('NFKD', texto)\n",
        "  palavraSemAcento = \"\".join([c for c in nfkd if not unicodedata.combining(c)])\n",
        "  return palavraSemAcento\n",
        "\n",
        "def tratar_texto(texto):\n",
        "    texto_sem_acentos = remove_acentos(texto)\n",
        "    return re.sub(r'([a-z])([A-Z])', r'\\1 \\2', texto_sem_acentos)"
      ],
      "metadata": {
        "id": "Xhk3QwvX4h0z"
      },
      "execution_count": null,
      "outputs": []
    },
    {
      "cell_type": "code",
      "source": [
        "dataframe = pd.read_csv(\"./top_musicas.csv\")"
      ],
      "metadata": {
        "id": "DoIG2koN1JdL"
      },
      "execution_count": null,
      "outputs": []
    },
    {
      "cell_type": "code",
      "source": [
        "from langchain.schema import Document\n",
        "\n",
        "sections = [\n",
        "    Document(\n",
        "        page_content= tratar_texto(row[\"lyrics\"]),\n",
        "        metadata={\n",
        "            \"autor\": row[\"author\"],\n",
        "            \"titulo\": row[\"music\"],\n",
        "            \"letra\": row[\"lyrics\"]\n",
        "        }\n",
        "    )\n",
        "    for index, row in dataframe.iterrows()\n",
        "]"
      ],
      "metadata": {
        "id": "ndlJ4qYV1QWu"
      },
      "execution_count": null,
      "outputs": []
    },
    {
      "cell_type": "code",
      "source": [
        "from vectordb import Memory\n",
        "\n",
        "memory = Memory(chunking_strategy={\"mode\": \"sliding_window\", \"window_size\": 14, \"overlap\": 10})"
      ],
      "metadata": {
        "id": "bXt-oLLD8lW3"
      },
      "execution_count": null,
      "outputs": []
    },
    {
      "cell_type": "code",
      "source": [
        "for i in range(0, len(sections)):\n",
        "  letra = sections[i].page_content\n",
        "\n",
        "  metadata = {\n",
        "    \"autor\": sections[i].metadata[\"autor\"],\n",
        "    \"musica\": sections[i].metadata[\"titulo\"],\n",
        "    \"letra\": sections[i].metadata[\"letra\"]\n",
        "  }\n",
        "\n",
        "  memory.save(letra, metadata)"
      ],
      "metadata": {
        "id": "rFhaqRAoB5g_"
      },
      "execution_count": null,
      "outputs": []
    },
    {
      "cell_type": "code",
      "source": [
        "top_musicas = memory.search(\"For the way I hurt, yeah\", top_n=4)\n",
        "\n",
        "def corrigir_musica(texto):\n",
        "    texto_sem_acentos = remove_acentos(texto)\n",
        "    return re.sub(r'([a-z])([A-Z])', r'\\1\\n\\2', texto_sem_acentos)\n",
        "\n",
        "for top_musica in top_musicas[:4]:\n",
        "  #print(f\"Com distância de: {top_musica['distance']}\")\n",
        "  print(top_musica['metadata']['autor']+\" - \"+top_musica['metadata']['musica'])\n",
        "  #print(f\"\\n{corrigir_musica(top_musica['metadata']['letra'])}\\n\\n\")"
      ],
      "metadata": {
        "id": "9KjmIeGBC1u2"
      },
      "execution_count": null,
      "outputs": []
    }
  ]
}